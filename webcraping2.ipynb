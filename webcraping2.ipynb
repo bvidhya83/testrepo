{
 "cells": [
  {
   "cell_type": "markdown",
   "metadata": {},
   "source": [
    "<p style=\"text-align:center\">\n",
    "    <a href=\"https://skills.network/?utm_medium=Exinfluencer&utm_source=Exinfluencer&utm_content=000026UJ&utm_term=10006555&utm_id=NA-SkillsNetwork-Channel-SkillsNetworkCoursesIBMDA0321ENSkillsNetwork21426264-2022-01-01\" target=\"_blank\">\n",
    "    <img src=\"https://cf-courses-data.s3.us.cloud-object-storage.appdomain.cloud/assets/logos/SN_web_lightmode.png\" width=\"200\" alt=\"Skills Network Logo\"  />\n",
    "    </a>\n",
    "</p>\n"
   ]
  },
  {
   "cell_type": "markdown",
   "metadata": {},
   "source": [
    "# **Hands-on Lab : Web Scraping**\n"
   ]
  },
  {
   "cell_type": "markdown",
   "metadata": {},
   "source": [
    "Estimated time needed: **30 to 45** minutes\n"
   ]
  },
  {
   "cell_type": "markdown",
   "metadata": {},
   "source": [
    "## Objectives\n"
   ]
  },
  {
   "cell_type": "markdown",
   "metadata": {},
   "source": [
    "In this lab you will perform the following:\n"
   ]
  },
  {
   "cell_type": "markdown",
   "metadata": {},
   "source": [
    "*   Extract information from a given web site\n",
    "*   Write the scraped data into a csv file.\n"
   ]
  },
  {
   "cell_type": "markdown",
   "metadata": {},
   "source": [
    "## Extract information from the given web site\n",
    "\n",
    "You will extract the data from the below web site: <br>\n"
   ]
  },
  {
   "cell_type": "code",
   "execution_count": 1,
   "metadata": {},
   "outputs": [],
   "source": [
    "#this url contains the data you need to scrape\n",
    "url = \"https://cf-courses-data.s3.us.cloud-object-storage.appdomain.cloud/IBM-DA0321EN-SkillsNetwork/labs/datasets/Programming_Languages.html\""
   ]
  },
  {
   "cell_type": "markdown",
   "metadata": {},
   "source": [
    "The data you need to scrape is the **name of the programming language** and **average annual salary**.<br> It is a good idea to open the url in your web broswer and study the contents of the web page before you start to scrape.\n"
   ]
  },
  {
   "cell_type": "markdown",
   "metadata": {},
   "source": [
    "Import the required libraries\n"
   ]
  },
  {
   "cell_type": "code",
   "execution_count": 26,
   "metadata": {},
   "outputs": [],
   "source": [
    "# Your code here\n",
    "import requests\n",
    "from bs4 import BeautifulSoup\n",
    "import pandas as pd"
   ]
  },
  {
   "cell_type": "markdown",
   "metadata": {},
   "source": [
    "Download the webpage at the url\n"
   ]
  },
  {
   "cell_type": "code",
   "execution_count": 27,
   "metadata": {},
   "outputs": [
    {
     "name": "stdout",
     "output_type": "stream",
     "text": [
      "<!doctype html>\n",
      "<html lang=\"en\">\n",
      "<head>\n",
      "<title>\n",
      "Salary survey results of programming languages\n",
      "</title>\n",
      "<style>\n",
      "table, th, td {\n",
      "  border: 1px solid black;\n",
      "}\n",
      "</style>\n",
      "</head>\n",
      "\n",
      "<body>\n",
      "<hr />\n",
      "<h2>Popular Programming Languages</h2>\n",
      "<hr />\n",
      "<p>Finding out which is the best language is a tough task. A programming language is created to solve a specific problem. A language which is good for task A may not be able to properly handle task B. Comparing programming language is never easy. What we can do, however, is find which is popular in the industry.</p>\n",
      "<p>There are many ways to find the popularity of a programming languages. Counting the number of google searchs for each language is a simple way to find the popularity. GitHub and StackOverflow also can give some good pointers.</p>\n",
      "<p>Salary surveys are a way to find out the programmings languages that are most in demand in the industry. Below table is the result of one such survey. When using any survey keep in mind that the results vary year on year.</p>\n",
      "<hr />\n",
      "<table>\n",
      "<tbody>\n",
      "<tr>\n",
      "<td>No.</td>\n",
      "<td>Language</td>\n",
      "<td>Created By</td>\n",
      "<td>Average Annual Salary</td>\n",
      "<td>Learning Difficulty</td>\n",
      "</tr>\n",
      "<tr>\n",
      "<td>1</td>\n",
      "<td>Python</td>\n",
      "<td>Guido van Rossum</td>\n",
      "<td>$114,383</td>\n",
      "<td>Easy</td>\n",
      "</tr>\n",
      "<tr>\n",
      "<td>2</td>\n",
      "<td>Java</td>\n",
      "<td>James Gosling</td>\n",
      "<td>$101,013</td>\n",
      "<td>Easy</td>\n",
      "</tr>\n",
      "<tr>\n",
      "<td>3</td>\n",
      "<td>R</td>\n",
      "<td>Robert Gentleman, Ross Ihaka</td>\n",
      "<td>$92,037</td>\n",
      "<td>Hard</td>\n",
      "</tr>\n",
      "<tr>\n",
      "<td>4</td>\n",
      "<td>Javascript</td>\n",
      "<td>Netscape</td>\n",
      "<td>$110,981</td>\n",
      "<td>Easy</td>\n",
      "</tr>\n",
      "<tr>\n",
      "<td>5</td>\n",
      "<td>Swift</td>\n",
      "<td>Apple</td>\n",
      "<td>$130,801</td>\n",
      "<td>Easy</td>\n",
      "</tr>\n",
      "<tr>\n",
      "<td>6</td>\n",
      "<td>C++</td>\n",
      "<td>Bjarne Stroustrup</td>\n",
      "<td>$113,865</td>\n",
      "<td>Hard</td>\n",
      "</tr>\n",
      "<tr>\n",
      "<td>7</td>\n",
      "<td>C#</td>\n",
      "<td>Microsoft</td>\n",
      "<td>$88,726</td>\n",
      "<td>Hard</td>\n",
      "</tr>\n",
      "<tr>\n",
      "<td>8</td>\n",
      "<td>PHP</td>\n",
      "<td>Rasmus Lerdorf</td>\n",
      "<td>$84,727</td>\n",
      "<td>Easy</td>\n",
      "</tr>\n",
      "<tr>\n",
      "<td>9</td>\n",
      "<td>SQL</td>\n",
      "<td>Donald D. Chamberlin, Raymond F. Boyce.</td>\n",
      "<td>$84,793</td>\n",
      "<td>Easy</td>\n",
      "</tr>\n",
      "<tr>\n",
      "<td>10</td>\n",
      "<td>Go</td>\n",
      "<td>Robert Griesemer, Ken Thompson, Rob Pike.</td>\n",
      "<td>$94,082</td>\n",
      "<td>Difficult</td>\n",
      "</tr>\n",
      "</tbody>\n",
      "</table>\n",
      "<hr />\n",
      "</body>\n",
      "</html>\n"
     ]
    }
   ],
   "source": [
    "#your code goes here\n",
    "url = \"https://cf-courses-data.s3.us.cloud-object-storage.appdomain.cloud/IBM-DA0321EN-SkillsNetwork/labs/datasets/Programming_Languages.html\"\n",
    "r=requests.get(url).text\n",
    "print(r)"
   ]
  },
  {
   "cell_type": "markdown",
   "metadata": {},
   "source": [
    "Create a soup object\n"
   ]
  },
  {
   "cell_type": "code",
   "execution_count": 28,
   "metadata": {},
   "outputs": [
    {
     "name": "stdout",
     "output_type": "stream",
     "text": [
      "<!DOCTYPE html>\n",
      "<html lang=\"en\"><head>\n",
      "<title>\n",
      "Salary survey results of programming languages\n",
      "</title>\n",
      "<style>\n",
      "table, th, td {\n",
      "  border: 1px solid black;\n",
      "}\n",
      "</style>\n",
      "</head>\n",
      "\n",
      "<body>\n",
      "<hr/>\n",
      "<h2>Popular Programming Languages</h2>\n",
      "<hr/>\n",
      "<p>Finding out which is the best language is a tough task. A programming language is created to solve a specific problem. A language which is good for task A may not be able to properly handle task B. Comparing programming language is never easy. What we can do, however, is find which is popular in the industry.</p>\n",
      "<p>There are many ways to find the popularity of a programming languages. Counting the number of google searchs for each language is a simple way to find the popularity. GitHub and StackOverflow also can give some good pointers.</p>\n",
      "<p>Salary surveys are a way to find out the programmings languages that are most in demand in the industry. Below table is the result of one such survey. When using any survey keep in mind that the results vary year on year.</p>\n",
      "<hr/>\n",
      "<table>\n",
      "<tbody>\n",
      "<tr>\n",
      "<td>No.</td>\n",
      "<td>Language</td>\n",
      "<td>Created By</td>\n",
      "<td>Average Annual Salary</td>\n",
      "<td>Learning Difficulty</td>\n",
      "</tr>\n",
      "<tr>\n",
      "<td>1</td>\n",
      "<td>Python</td>\n",
      "<td>Guido van Rossum</td>\n",
      "<td>$114,383</td>\n",
      "<td>Easy</td>\n",
      "</tr>\n",
      "<tr>\n",
      "<td>2</td>\n",
      "<td>Java</td>\n",
      "<td>James Gosling</td>\n",
      "<td>$101,013</td>\n",
      "<td>Easy</td>\n",
      "</tr>\n",
      "<tr>\n",
      "<td>3</td>\n",
      "<td>R</td>\n",
      "<td>Robert Gentleman, Ross Ihaka</td>\n",
      "<td>$92,037</td>\n",
      "<td>Hard</td>\n",
      "</tr>\n",
      "<tr>\n",
      "<td>4</td>\n",
      "<td>Javascript</td>\n",
      "<td>Netscape</td>\n",
      "<td>$110,981</td>\n",
      "<td>Easy</td>\n",
      "</tr>\n",
      "<tr>\n",
      "<td>5</td>\n",
      "<td>Swift</td>\n",
      "<td>Apple</td>\n",
      "<td>$130,801</td>\n",
      "<td>Easy</td>\n",
      "</tr>\n",
      "<tr>\n",
      "<td>6</td>\n",
      "<td>C++</td>\n",
      "<td>Bjarne Stroustrup</td>\n",
      "<td>$113,865</td>\n",
      "<td>Hard</td>\n",
      "</tr>\n",
      "<tr>\n",
      "<td>7</td>\n",
      "<td>C#</td>\n",
      "<td>Microsoft</td>\n",
      "<td>$88,726</td>\n",
      "<td>Hard</td>\n",
      "</tr>\n",
      "<tr>\n",
      "<td>8</td>\n",
      "<td>PHP</td>\n",
      "<td>Rasmus Lerdorf</td>\n",
      "<td>$84,727</td>\n",
      "<td>Easy</td>\n",
      "</tr>\n",
      "<tr>\n",
      "<td>9</td>\n",
      "<td>SQL</td>\n",
      "<td>Donald D. Chamberlin, Raymond F. Boyce.</td>\n",
      "<td>$84,793</td>\n",
      "<td>Easy</td>\n",
      "</tr>\n",
      "<tr>\n",
      "<td>10</td>\n",
      "<td>Go</td>\n",
      "<td>Robert Griesemer, Ken Thompson, Rob Pike.</td>\n",
      "<td>$94,082</td>\n",
      "<td>Difficult</td>\n",
      "</tr>\n",
      "</tbody>\n",
      "</table>\n",
      "<hr/>\n",
      "\n",
      "</body></html>\n"
     ]
    }
   ],
   "source": [
    "#your code goes here\n",
    "soup=BeautifulSoup(r,'html5lib')\n",
    "print(soup)"
   ]
  },
  {
   "cell_type": "markdown",
   "metadata": {},
   "source": [
    "Scrape the `Language name` and `annual average salary`.\n"
   ]
  },
  {
   "cell_type": "code",
   "execution_count": 76,
   "metadata": {},
   "outputs": [
    {
     "name": "stdout",
     "output_type": "stream",
     "text": [
      "Language--->Average Annual Salary\n",
      "Python--->$114,383\n",
      "Java--->$101,013\n",
      "R--->$92,037\n",
      "Javascript--->$110,981\n",
      "Swift--->$130,801\n",
      "C++--->$113,865\n",
      "C#--->$88,726\n",
      "PHP--->$84,727\n",
      "SQL--->$84,793\n",
      "Go--->$94,082\n"
     ]
    }
   ],
   "source": [
    "#your code goes here\n",
    "\n",
    "\n",
    "table=soup.find('table')\n",
    "\n",
    "\n",
    "for row in table.find_all('tr'):\n",
    "    cols=row.find_all('td')\n",
    "    Language = cols[1].getText()\n",
    "    Annual_Avg_Salary=cols[3].getText()\n",
    "    print(\"{}--->{}\".format(Language,Annual_Avg_Salary))\n",
    "    \n",
    "\n",
    "    "
   ]
  },
  {
   "cell_type": "markdown",
   "metadata": {},
   "source": [
    "Save the scrapped data into a file named *popular-languages.csv*\n"
   ]
  },
  {
   "cell_type": "code",
   "execution_count": 81,
   "metadata": {},
   "outputs": [
    {
     "data": {
      "text/html": [
       "<div>\n",
       "<style scoped>\n",
       "    .dataframe tbody tr th:only-of-type {\n",
       "        vertical-align: middle;\n",
       "    }\n",
       "\n",
       "    .dataframe tbody tr th {\n",
       "        vertical-align: top;\n",
       "    }\n",
       "\n",
       "    .dataframe thead th {\n",
       "        text-align: right;\n",
       "    }\n",
       "</style>\n",
       "<table border=\"1\" class=\"dataframe\">\n",
       "  <thead>\n",
       "    <tr style=\"text-align: right;\">\n",
       "      <th></th>\n",
       "      <th>0</th>\n",
       "      <th>1</th>\n",
       "      <th>2</th>\n",
       "      <th>3</th>\n",
       "      <th>4</th>\n",
       "      <th>5</th>\n",
       "      <th>6</th>\n",
       "      <th>7</th>\n",
       "      <th>8</th>\n",
       "      <th>9</th>\n",
       "    </tr>\n",
       "  </thead>\n",
       "  <tbody>\n",
       "    <tr>\n",
       "      <th>0</th>\n",
       "      <td>Python</td>\n",
       "      <td>Java</td>\n",
       "      <td>R</td>\n",
       "      <td>Javascript</td>\n",
       "      <td>Swift</td>\n",
       "      <td>C++</td>\n",
       "      <td>C#</td>\n",
       "      <td>PHP</td>\n",
       "      <td>SQL</td>\n",
       "      <td>Go</td>\n",
       "    </tr>\n",
       "    <tr>\n",
       "      <th>1</th>\n",
       "      <td>$114,383</td>\n",
       "      <td>$101,013</td>\n",
       "      <td>$92,037</td>\n",
       "      <td>$110,981</td>\n",
       "      <td>$130,801</td>\n",
       "      <td>$113,865</td>\n",
       "      <td>$88,726</td>\n",
       "      <td>$84,727</td>\n",
       "      <td>$84,793</td>\n",
       "      <td>$94,082</td>\n",
       "    </tr>\n",
       "  </tbody>\n",
       "</table>\n",
       "</div>"
      ],
      "text/plain": [
       "          0         1        2           3         4         5        6  \\\n",
       "0    Python      Java        R  Javascript     Swift       C++       C#   \n",
       "1  $114,383  $101,013  $92,037    $110,981  $130,801  $113,865  $88,726   \n",
       "\n",
       "         7        8        9  \n",
       "0      PHP      SQL       Go  \n",
       "1  $84,727  $84,793  $94,082  "
      ]
     },
     "execution_count": 81,
     "metadata": {},
     "output_type": "execute_result"
    }
   ],
   "source": [
    "# your code goes here\n",
    "Language=['Python','Java','R','Javascript','Swift','C++','C#','PHP','SQL','Go']\n",
    "Average_Annual_Salary=['$114,383','$101,013','$92,037','$110,981','$130,801','$113,865','$88,726','$84,727','$84,793','$94,082']\n",
    "r=(Language, Average_Annual_Salary)\n",
    "df_r=pd.DataFrame(r)\n",
    "df_r\n",
    "\n"
   ]
  },
  {
   "cell_type": "code",
   "execution_count": 79,
   "metadata": {},
   "outputs": [
    {
     "name": "stdout",
     "output_type": "stream",
     "text": [
      "Dataframe is written to csv\n"
     ]
    }
   ],
   "source": [
    "df_r.to_csv('popular-languages.csv')\n",
    "print(\"Dataframe is written to csv\")"
   ]
  },
  {
   "cell_type": "markdown",
   "metadata": {},
   "source": [
    "## Authors\n"
   ]
  },
  {
   "cell_type": "markdown",
   "metadata": {},
   "source": [
    "Ramesh Sannareddy\n"
   ]
  },
  {
   "cell_type": "markdown",
   "metadata": {},
   "source": [
    "### Other Contributors\n"
   ]
  },
  {
   "cell_type": "markdown",
   "metadata": {},
   "source": [
    "Rav Ahuja\n"
   ]
  },
  {
   "cell_type": "markdown",
   "metadata": {},
   "source": [
    "## Change Log\n"
   ]
  },
  {
   "cell_type": "markdown",
   "metadata": {},
   "source": [
    "| Date (YYYY-MM-DD) | Version | Changed By        | Change Description                 |\n",
    "| ----------------- | ------- | ----------------- | ---------------------------------- |\n",
    "| 2020-10-17        | 0.1     | Ramesh Sannareddy | Created initial version of the lab |\n"
   ]
  },
  {
   "cell_type": "markdown",
   "metadata": {},
   "source": [
    "Copyright © 2020 IBM Corporation. This notebook and its source code are released under the terms of the [MIT License](https://cognitiveclass.ai/mit-license/?utm_medium=Exinfluencer&utm_source=Exinfluencer&utm_content=000026UJ&utm_term=10006555&utm_id=NA-SkillsNetwork-Channel-SkillsNetworkCoursesIBMDA0321ENSkillsNetwork21426264-2022-01-01).\n"
   ]
  }
 ],
 "metadata": {
  "kernelspec": {
   "display_name": "Python 3",
   "language": "python",
   "name": "python3"
  },
  "language_info": {
   "codemirror_mode": {
    "name": "ipython",
    "version": 3
   },
   "file_extension": ".py",
   "mimetype": "text/x-python",
   "name": "python",
   "nbconvert_exporter": "python",
   "pygments_lexer": "ipython3",
   "version": "3.8.3"
  }
 },
 "nbformat": 4,
 "nbformat_minor": 4
}
